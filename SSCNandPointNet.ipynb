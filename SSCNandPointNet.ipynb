{
 "cells": [
  {
   "cell_type": "markdown",
   "id": "6210481d-56de-4748-8010-533a0670766f",
   "metadata": {},
   "source": [
    "# SSCN and PointNet Layer Implementation Assignment"
   ]
  },
  {
   "cell_type": "code",
   "execution_count": 1,
   "id": "73819a7f-4c05-4c70-a73a-93d2e647e345",
   "metadata": {},
   "outputs": [],
   "source": [
    "#include <bits/stdc++.h>\n",
    "using namespace std;"
   ]
  },
  {
   "cell_type": "markdown",
   "id": "8fe9f27b-189f-4565-8dab-9004535c4426",
   "metadata": {},
   "source": [
    "SSCN uses the preprocessing method used in [Volumetric and Multi-View CNNs for Object Classification on 3D Data](https://arxiv.org/abs/1604.03265)\n",
    "\n",
    "We are going to use a simpler method that doesn't require another CNN, where we voxelize the given .off files and project them from multiple angles to get a 2d image\n",
    "we can use."
   ]
  },
  {
   "cell_type": "markdown",
   "id": "ff4485d5-b95c-41ad-803e-ed6c98c32062",
   "metadata": {},
   "source": [
    "### Download binvox and dataset"
   ]
  },
  {
   "cell_type": "code",
   "execution_count": 3,
   "id": "94c6e26e-4907-456f-97ea-dc0002ecee41",
   "metadata": {},
   "outputs": [],
   "source": [
    "!test -f binvox || wget https://www.patrickmin.com/binvox/linux64/binvox"
   ]
  },
  {
   "cell_type": "code",
   "execution_count": 4,
   "id": "e756be5e-cc93-4fa9-abb7-11b940aa918d",
   "metadata": {},
   "outputs": [],
   "source": [
    "!chmod +x binvox"
   ]
  },
  {
   "cell_type": "code",
   "execution_count": 5,
   "id": "dbd0bf55-a5c6-482a-8c66-7570c525ddaa",
   "metadata": {},
   "outputs": [],
   "source": [
    "!./download_dataset.sh > /dev/null"
   ]
  },
  {
   "cell_type": "markdown",
   "id": "9d6283b5-d91d-46f2-a4ac-b7ad7924fb68",
   "metadata": {},
   "source": [
    "### Runs script to voxelize `.off` file\n",
    "`/dev/null` pipe is to stop it from breaking stdout, if the program is not working, remove it to debug"
   ]
  },
  {
   "cell_type": "code",
   "execution_count": 2,
   "id": "08afc5e3-4341-498b-8606-7e1fd8f78fcf",
   "metadata": {},
   "outputs": [],
   "source": [
    "!./voxelize.sh ModelNet10/bed/train/bed_0009.off > /dev/null"
   ]
  },
  {
   "cell_type": "markdown",
   "id": "dd0895f6-f17b-4696-8520-0b6664837bba",
   "metadata": {},
   "source": [
    "## Parse voxel file into C++ memory"
   ]
  },
  {
   "cell_type": "code",
   "execution_count": 7,
   "id": "9f0cf8d6-b46c-433b-a8a4-6005e9de63f9",
   "metadata": {},
   "outputs": [],
   "source": [
    "typedef unsigned char byte;"
   ]
  },
  {
   "cell_type": "code",
   "execution_count": 9,
   "id": "fb5ea695-6308-4b39-937b-639f2359c854",
   "metadata": {},
   "outputs": [],
   "source": [
    "int read_binvox(string filespec){\n",
    "  ifstream *input = new ifstream(filespec.c_str(), ios::in | ios::binary);\n",
    "\n",
    "  // read header\n",
    "  string line;\n",
    "  *input >> line;  // #binvox\n",
    "  if (line.compare(\"#binvox\") != 0) {\n",
    "    cout << \"Error: first line reads [\" << line << \"] instead of [#binvox]\" << endl;\n",
    "    delete input;\n",
    "    return 0;\n",
    "  }\n",
    "  int version;\n",
    "  *input >> version;\n",
    "  cout << \"reading binvox version \" << version << endl;\n",
    "\n",
    "  int depth, height, width;\n",
    "  depth = -1;\n",
    "  int done = 0;\n",
    "  while(input->good() && !done) {\n",
    "    *input >> line;\n",
    "    if (line.compare(\"data\") == 0) done = 1;\n",
    "    else if (line.compare(\"dim\") == 0) {\n",
    "      *input >> depth >> height >> width;\n",
    "    }\n",
    "    else {\n",
    "      cout << \"  unrecognized keyword [\" << line << \"], skipping\" << endl;\n",
    "      char c;\n",
    "      do {  // skip until end of line\n",
    "        c = input->get();\n",
    "      } while(input->good() && (c != '\\n'));\n",
    "\n",
    "    }\n",
    "  }\n",
    "  if (!done) {\n",
    "    cout << \"  error reading header\" << endl;\n",
    "    return 0;\n",
    "  }\n",
    "  if (depth == -1) {\n",
    "    cout << \"  missing dimensions in header\" << endl;\n",
    "    return 0;\n",
    "  }\n",
    "\n",
    "  int size = width * height * depth;\n",
    "  byte *voxels = new byte[size];\n",
    "  if (!voxels) {\n",
    "    cout << \"  error allocating memory\" << endl;\n",
    "    return 0;\n",
    "  }\n",
    "\n",
    "  // read voxel data\n",
    "  byte value;\n",
    "  byte count;\n",
    "  int index = 0;\n",
    "  int end_index = 0;\n",
    "  int nr_voxels = 0; \n",
    "  input->unsetf(ios::skipws);  // need to read every byte now (!)\n",
    "  *input >> value;  // read the linefeed char\n",
    "\n",
    "  while((end_index < size) && input->good()) {\n",
    "    *input >> value >> count;\n",
    "    if (input->good()) {\n",
    "      end_index = index + count;\n",
    "      if (end_index > size) return 0;\n",
    "      for(int i=index; i < end_index; i++) voxels[i] = value;\n",
    "      \n",
    "      if (value) nr_voxels += count;\n",
    "      index = end_index;\n",
    "    }  // if file still ok\n",
    "    \n",
    "  }  // while\n",
    "  input->close();\n",
    "  cout << \"  read \" << nr_voxels << \" voxels\" << endl;\n",
    "  return 1;\n",
    "}\n"
   ]
  },
  {
   "cell_type": "code",
   "execution_count": 13,
   "id": "926ce559-4557-406e-a8f4-f905493ffd25",
   "metadata": {},
   "outputs": [
    {
     "name": "stdout",
     "output_type": "stream",
     "text": [
      "reading binvox version 1\n",
      "  unrecognized keyword [translate], skipping\n",
      "  unrecognized keyword [scale], skipping\n",
      "  read 342548 voxels\n"
     ]
    }
   ],
   "source": [
    "string file = \"ModelNet10/bed/train/bed_0009.binvox\";\n",
    "read_binvox(file);"
   ]
  },
  {
   "cell_type": "code",
   "execution_count": null,
   "id": "20f72fd3-0bc2-4d64-bea5-b4c9456f8708",
   "metadata": {},
   "outputs": [],
   "source": [
    "int foo = 1"
   ]
  }
 ],
 "metadata": {
  "kernelspec": {
   "display_name": "C++11",
   "language": "C++11",
   "name": "xcpp11"
  },
  "language_info": {
   "codemirror_mode": "text/x-c++src",
   "file_extension": ".cpp",
   "mimetype": "text/x-c++src",
   "name": "c++",
   "version": "11"
  }
 },
 "nbformat": 4,
 "nbformat_minor": 5
}
