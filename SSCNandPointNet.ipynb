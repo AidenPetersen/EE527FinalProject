{
 "cells": [
  {
   "cell_type": "markdown",
   "id": "6210481d-56de-4748-8010-533a0670766f",
   "metadata": {},
   "source": [
    "# SSCN and PointNet Layer Implementation Assignment"
   ]
  },
  {
   "cell_type": "code",
   "execution_count": 1,
   "id": "73819a7f-4c05-4c70-a73a-93d2e647e345",
   "metadata": {},
   "outputs": [],
   "source": [
    "#include <bits/stdc++.h>\n",
    "using namespace std;"
   ]
  },
  {
   "cell_type": "markdown",
   "id": "8fe9f27b-189f-4565-8dab-9004535c4426",
   "metadata": {},
   "source": [
    "Read ModelNet10 data and Pre-process using method outlined in [Volumetric and Multi-View CNNs for Object Classification on 3D Data](https://arxiv.org/abs/1604.03265)"
   ]
  },
  {
   "cell_type": "code",
   "execution_count": 2,
   "id": "94c6e26e-4907-456f-97ea-dc0002ecee41",
   "metadata": {},
   "outputs": [],
   "source": [
    "string off_file = \"ModelNet10/bed/train/bed_0001.off\";"
   ]
  },
  {
   "cell_type": "code",
   "execution_count": null,
   "id": "e756be5e-cc93-4fa9-abb7-11b940aa918d",
   "metadata": {},
   "outputs": [],
   "source": []
  }
 ],
 "metadata": {
  "kernelspec": {
   "display_name": "C++11",
   "language": "C++11",
   "name": "xcpp11"
  },
  "language_info": {
   "codemirror_mode": "text/x-c++src",
   "file_extension": ".cpp",
   "mimetype": "text/x-c++src",
   "name": "c++",
   "version": "11"
  }
 },
 "nbformat": 4,
 "nbformat_minor": 5
}
